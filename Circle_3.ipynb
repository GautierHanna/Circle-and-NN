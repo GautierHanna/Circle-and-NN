{
  "nbformat": 4,
  "nbformat_minor": 0,
  "metadata": {
    "colab": {
      "name": "Circle-3.ipynb",
      "version": "0.3.2",
      "provenance": [],
      "collapsed_sections": [],
      "include_colab_link": true
    },
    "language_info": {
      "codemirror_mode": {
        "name": "ipython",
        "version": 3
      },
      "file_extension": ".py",
      "mimetype": "text/x-python",
      "name": "python",
      "nbconvert_exporter": "python",
      "pygments_lexer": "ipython3",
      "version": "3.7.3"
    },
    "kernelspec": {
      "display_name": "Python 3",
      "language": "python",
      "name": "python3"
    }
  },
  "cells": [
    {
      "cell_type": "markdown",
      "metadata": {
        "id": "view-in-github",
        "colab_type": "text"
      },
      "source": [
        "<a href=\"https://colab.research.google.com/github/GautierHanna/Circle-and-NN/blob/master/Circle_3.ipynb\" target=\"_parent\"><img src=\"https://colab.research.google.com/assets/colab-badge.svg\" alt=\"Open In Colab\"/></a>"
      ]
    },
    {
      "cell_type": "markdown",
      "metadata": {
        "id": "x3-gh1ZA2x8h",
        "colab_type": "text"
      },
      "source": [
        "On this notebook, we will plot how a NN learn a disk. We will have a grid of a parametrized size, and a NN. "
      ]
    },
    {
      "cell_type": "code",
      "metadata": {
        "id": "pF26jV0X2x8m",
        "colab_type": "code",
        "colab": {
          "base_uri": "https://localhost:8080/",
          "height": 34
        },
        "outputId": "31e853cc-7266-4c4a-e4df-f598908b707d"
      },
      "source": [
        "import random as rd\n",
        "import numpy as np\n",
        "import tensorflow as tf\n",
        "from math import sqrt\n",
        "\n",
        "\n",
        "from tensorflow.python.keras.models import Sequential\n",
        "from tensorflow.python.keras.layers import InputLayer, Input\n",
        "from tensorflow.python.keras.layers import Reshape, MaxPooling2D\n",
        "from tensorflow.python.keras.layers import Conv2D, Dense, Flatten\n",
        "from keras import regularizers\n",
        "\n",
        "import matplotlib.pyplot as plt\n",
        "from matplotlib import colors\n",
        "\n",
        "config = tf.ConfigProto()\n",
        "config.gpu_options.allow_growth = True\n",
        "sess = tf.Session(config=config)"
      ],
      "execution_count": 1,
      "outputs": [
        {
          "output_type": "stream",
          "text": [
            "Using TensorFlow backend.\n"
          ],
          "name": "stderr"
        }
      ]
    },
    {
      "cell_type": "markdown",
      "metadata": {
        "id": "GfZwx8Aa2x8y",
        "colab_type": "text"
      },
      "source": [
        "We define our grid "
      ]
    },
    {
      "cell_type": "code",
      "metadata": {
        "id": "Hliu5AW02x81",
        "colab_type": "code",
        "colab": {}
      },
      "source": [
        "def grid(size):\n",
        "    return np.zeros((size,size))"
      ],
      "execution_count": 0,
      "outputs": []
    },
    {
      "cell_type": "markdown",
      "metadata": {
        "id": "z-nGMYEZ2x8-",
        "colab_type": "text"
      },
      "source": [
        "We create our datasets. "
      ]
    },
    {
      "cell_type": "code",
      "metadata": {
        "id": "sP_ef7ZY2x9B",
        "colab_type": "code",
        "colab": {}
      },
      "source": [
        "def data(samples,sizegrid):\n",
        "    return np.random.randint(sizegrid, size=(samples,2)).astype('float32') "
      ],
      "execution_count": 0,
      "outputs": []
    },
    {
      "cell_type": "markdown",
      "metadata": {
        "id": "dKkjll2B2x9I",
        "colab_type": "text"
      },
      "source": [
        "It creates an array of random \"couples\" - the parameter 2 in the size\"- each coordinate is between 0 and the size of the grid"
      ]
    },
    {
      "cell_type": "code",
      "metadata": {
        "id": "rBqiFsjd2x9K",
        "colab_type": "code",
        "outputId": "a740f667-e243-4d20-b790-dd274c60e513",
        "colab": {
          "base_uri": "https://localhost:8080/",
          "height": 102
        }
      },
      "source": [
        "data(5,8)"
      ],
      "execution_count": 4,
      "outputs": [
        {
          "output_type": "execute_result",
          "data": {
            "text/plain": [
              "array([[7, 0],\n",
              "       [2, 5],\n",
              "       [1, 6],\n",
              "       [6, 2],\n",
              "       [0, 4]])"
            ]
          },
          "metadata": {
            "tags": []
          },
          "execution_count": 4
        }
      ]
    },
    {
      "cell_type": "markdown",
      "metadata": {
        "id": "iPx8NHww2x9T",
        "colab_type": "text"
      },
      "source": [
        "Now we will mark our points. In first instance, we will write function where the circle is in the center."
      ]
    },
    {
      "cell_type": "code",
      "metadata": {
        "id": "2cXQNdw_2x9U",
        "colab_type": "code",
        "colab": {}
      },
      "source": [
        "def mark(sizegrid,point,radius_ratio):\n",
        "    return ((point[0]-sizegrid/2)**2 + (point[1]-sizegrid/2)**2 <= (sizegrid*radius_ratio)**2)+1\n",
        "\n",
        "def mark_dataset(sizegrid,data,radius_ratio):\n",
        "    L = [mark(sizegrid,point,radius_ratio) for point in data]\n",
        "    return np.asarray(L)"
      ],
      "execution_count": 0,
      "outputs": []
    },
    {
      "cell_type": "markdown",
      "metadata": {
        "id": "AGeOk5CD2x9a",
        "colab_type": "text"
      },
      "source": [
        "The mark function return 1 if the point is not in the cicle of center \"center\" and radius \"radius\", and 2 if it is. The function mark_dataset exploit the mark function for a dataset. __Probably there is another (and better) method, using vectorization.__."
      ]
    },
    {
      "cell_type": "code",
      "metadata": {
        "scrolled": true,
        "id": "-IsZYwkI2x9c",
        "colab_type": "code",
        "outputId": "c96e5eed-4723-4663-c387-fae0de994ef4",
        "colab": {
          "base_uri": "https://localhost:8080/",
          "height": 153
        }
      },
      "source": [
        "print(mark(8,[4,4],1/3))\n",
        "print(mark(6,[0,0],1/3))\n",
        "\n",
        "dataset = data(5,8)\n",
        "print(dataset)\n",
        "print(mark_dataset(8,dataset,1/3))"
      ],
      "execution_count": 31,
      "outputs": [
        {
          "output_type": "stream",
          "text": [
            "2\n",
            "1\n",
            "[[1. 1.]\n",
            " [5. 2.]\n",
            " [7. 4.]\n",
            " [5. 3.]\n",
            " [0. 6.]]\n",
            "[1 2 1 2 1]\n"
          ],
          "name": "stdout"
        }
      ]
    },
    {
      "cell_type": "markdown",
      "metadata": {
        "id": "3Nw8JtB82x9o",
        "colab_type": "text"
      },
      "source": [
        "Now, it is the time to build a NN.\n"
      ]
    },
    {
      "cell_type": "code",
      "metadata": {
        "id": "eOwADRVW2x9q",
        "colab_type": "code",
        "colab": {}
      },
      "source": [
        "def buildmodel(neurons_on_layers,X_input,X_output,ep,batch):\n",
        "    le=len(neurons_on_layers)\n",
        "    ne=neurons_on_layers\n",
        "    model = Sequential()\n",
        "    model.add(Dense(ne[0], \n",
        "                    activation='relu'))  #change from 'relu'  \n",
        "    for j in list(range(1,le)):\n",
        "        model.add(Dense(ne[j],\n",
        "                        activation='relu'))    ##changed from 'relu'  'tan'\n",
        "    model.add(Dense(2, activation='softmax'))\n",
        "    model.compile(loss='sparse_categorical_crossentropy', optimizer='adam', metrics=['accuracy']) ##normal\n",
        "    model.fit(X_input,X_output, epochs=ep, batch_size=batch)\n",
        "    return model \n",
        "\n",
        "#def buildmodel(dim,neurons_on_layers,X,Y,ep,batch):\n",
        "#    le=len(neurons_on_layers)\n",
        " #   ne=neurons_on_layers\n",
        "#    model = Sequential()\n",
        "#    model.add(Dense(ne[0], input_dim=dim,  \n",
        "#                    activation='relu'))  #change from 'relu'  \n",
        "#    for j in list(range(1,le)):\n",
        " #       model.add(Dense(ne[j], \n",
        "#                        activation='relu'))    ##changed from 'relu'  'tan'\n",
        "#    model.add(Dense(2, activation='softmax'))\n",
        "#    model.compile(loss='sparse_categorical_crossentropy', optimizer='adam', metrics=['accuracy']) ##normal\n",
        "#    model.fit(X, Y, epochs=ep, batch_size=batch)\n",
        " #   return model"
      ],
      "execution_count": 0,
      "outputs": []
    },
    {
      "cell_type": "markdown",
      "metadata": {
        "id": "101YjpM72x9x",
        "colab_type": "text"
      },
      "source": [
        "We have :\n",
        " - a grid\n",
        " - a function who creates samples\n",
        " - a function who marks samples\n",
        " - a model of neural network\n",
        "\n",
        "Now we need to construct vizualizations models"
      ]
    },
    {
      "cell_type": "code",
      "metadata": {
        "id": "vBen4G2e2x9z",
        "colab_type": "code",
        "colab": {}
      },
      "source": [
        "\n",
        "cmap = colors.ListedColormap(['white','red', 'blue'])\n",
        "bounds = [0,1,2]\n",
        "norm = colors.BoundaryNorm(bounds, cmap.N)"
      ],
      "execution_count": 0,
      "outputs": []
    },
    {
      "cell_type": "code",
      "metadata": {
        "id": "8AbV6qcq2x99",
        "colab_type": "code",
        "colab": {}
      },
      "source": [
        "def plotgrid(gridsize, nb_sample, radius_ratio):\n",
        "    dataset = grid(gridsize)\n",
        "    samples = data(nb_sample,gridsize)\n",
        "    for point in samples : \n",
        "        dataset[point[0],point[1]] = mark(gridsize,[point[0],point[1]], radius_ratio)\n",
        "        #print(\"coord=\", point, \"value=\",dataset[point[0],point[1]])\n",
        "    # create discrete colormap\n",
        "    cmap = colors.ListedColormap(['white','red', 'blue'])\n",
        "    bounds = [0,0.5,1.5,2.5]\n",
        "    norm = colors.BoundaryNorm(bounds, cmap.N)\n",
        "\n",
        "    fig, ax = plt.subplots()\n",
        "    ax.imshow(dataset, cmap=cmap, norm=norm)\n",
        "\n",
        "    # draw gridlines\n",
        "    ax.grid(which='major', axis='both', linewidth=0)\n",
        "\n",
        "    plt.show()"
      ],
      "execution_count": 0,
      "outputs": []
    },
    {
      "cell_type": "code",
      "metadata": {
        "id": "jK-uWPu22x-E",
        "colab_type": "code",
        "outputId": "af108852-a9f8-4e25-d12e-c05a24f133c2",
        "colab": {
          "base_uri": "https://localhost:8080/",
          "height": 269
        }
      },
      "source": [
        "plotgrid(120,4950,1/5)"
      ],
      "execution_count": 20,
      "outputs": [
        {
          "output_type": "display_data",
          "data": {
            "image/png": "[encoded data removed]",
            "text/plain": [
              "<Figure size 432x288 with 1 Axes>"
            ]
          },
          "metadata": {
            "tags": []
          }
        }
      ]
    },
    {
      "cell_type": "markdown",
      "metadata": {
        "id": "GG-Z3_W7qXRl",
        "colab_type": "text"
      },
      "source": [
        "We can compute the radius_ratio for which the number of blue points are equal to the number of red points.\n",
        "Calling this ratio $r$ and the gridsize $s$, it means that $ (rs)^2 = s^2/(2\\pi) \\Leftrightarrow r = \\sqrt{1/2\\pi} \\simeq 0.4 $."
      ]
    },
    {
      "cell_type": "code",
      "metadata": {
        "id": "KFQDJBE6s32m",
        "colab_type": "code",
        "colab": {
          "base_uri": "https://localhost:8080/",
          "height": 269
        },
        "outputId": "da0b2b13-f42d-46c1-80b2-4404d2c43b25"
      },
      "source": [
        "plotgrid(120,4950,0.4)"
      ],
      "execution_count": 21,
      "outputs": [
        {
          "output_type": "display_data",
          "data": {
            "image/png": "[encoded data removed]",
            "text/plain": [
              "<Figure size 432x288 with 1 Axes>"
            ]
          },
          "metadata": {
            "tags": []
          }
        }
      ]
    },
    {
      "cell_type": "markdown",
      "metadata": {
        "id": "vteLJxu52x-N",
        "colab_type": "text"
      },
      "source": [
        "We will plot the figure learned by the algorithm. We first create a plot function, and then create a model. The plot function will have the trained model in parameter. So it just needs a new dataset, and the output will be the predictions."
      ]
    },
    {
      "cell_type": "code",
      "metadata": {
        "id": "pAnuwvnD2x-O",
        "colab_type": "code",
        "colab": {}
      },
      "source": [
        "def plotgrid_network(gridsize, nb_sample, model):\n",
        "    dataset = grid(gridsize)\n",
        "    \n",
        "    data_input = data(nb_sample,gridsize)\n",
        "    for point in data_input : \n",
        "        \n",
        "        dataset[int(point[0]),int(point[1])] = model.predict_classes(point[np.newaxis,:])+1\n",
        "        #print(\"coord=\", point, \"value=\",dataset[point[0],point[1]])\n",
        "    # create discrete colormap\n",
        "    cmap = colors.ListedColormap(['white','red', 'blue'])\n",
        "    bounds = [0,0.5,1.5,2.5]\n",
        "    norm = colors.BoundaryNorm(bounds, cmap.N)\n",
        "\n",
        "    fig, ax = plt.subplots()\n",
        "    ax.imshow(dataset, cmap=cmap, norm=norm)\n",
        "\n",
        "    # draw gridlines\n",
        "    ax.grid(which='major', axis='both', linewidth=0)\n",
        "    \n",
        "\n",
        "    plt.show()"
      ],
      "execution_count": 0,
      "outputs": []
    },
    {
      "cell_type": "code",
      "metadata": {
        "id": "pl6-nS592x-S",
        "colab_type": "code",
        "colab": {}
      },
      "source": [
        "Datasamples = data(60000,300)\n"
      ],
      "execution_count": 0,
      "outputs": []
    },
    {
      "cell_type": "code",
      "metadata": {
        "id": "LDeU_qGj2x-X",
        "colab_type": "code",
        "colab": {}
      },
      "source": [
        "X_train = Datasamples[:50000]\n",
        "X_test = Datasamples[50000:]\n",
        "Y_train = mark_dataset(300,X_train,0.4)-1\n",
        "Y_test = mark_dataset(300,X_test,0.4)-1\n",
        "\n"
      ],
      "execution_count": 0,
      "outputs": []
    },
    {
      "cell_type": "code",
      "metadata": {
        "scrolled": true,
        "id": "N6RKHDzi2x-e",
        "colab_type": "code",
        "outputId": "1231d589-c7dd-4dab-8cad-aa2bd986ea22",
        "colab": {
          "base_uri": "https://localhost:8080/",
          "height": 119
        }
      },
      "source": [
        "model = buildmodel([30,30],X_train,Y_train,3,5)"
      ],
      "execution_count": 41,
      "outputs": [
        {
          "output_type": "stream",
          "text": [
            "Epoch 1/3\n",
            "50000/50000 [==============================] - 13s 263us/sample - loss: 0.6913 - acc: 0.6926\n",
            "Epoch 2/3\n",
            "50000/50000 [==============================] - 13s 257us/sample - loss: 0.3959 - acc: 0.8161\n",
            "Epoch 3/3\n",
            "50000/50000 [==============================] - 13s 259us/sample - loss: 0.1657 - acc: 0.9386\n"
          ],
          "name": "stdout"
        }
      ]
    },
    {
      "cell_type": "code",
      "metadata": {
        "id": "IKBd5jO62x-m",
        "colab_type": "code",
        "colab": {
          "base_uri": "https://localhost:8080/",
          "height": 34
        },
        "outputId": "eb19023f-b492-4ee7-a4a3-ad6ead8f9011"
      },
      "source": [
        "predictions = model.predict(X_test)\n",
        "pred2 = model.predict_classes(X_test)+1\n",
        "\n",
        "print(pred2)"
      ],
      "execution_count": 46,
      "outputs": [
        {
          "output_type": "stream",
          "text": [
            "[2 1 2 ... 2 2 1]\n"
          ],
          "name": "stdout"
        }
      ]
    },
    {
      "cell_type": "code",
      "metadata": {
        "id": "rqX3MiHp2x-v",
        "colab_type": "code",
        "outputId": "b84a30f3-cc62-493d-e93b-c11da80b7cb4",
        "colab": {
          "base_uri": "https://localhost:8080/",
          "height": 269
        }
      },
      "source": [
        "plotgrid_network(300,30000,model)"
      ],
      "execution_count": 66,
      "outputs": [
        {
          "output_type": "display_data",
          "data": {
            "image/png": "[encoded data removed]",
            "text/plain": [
              "<Figure size 432x288 with 1 Axes>"
            ]
          },
          "metadata": {
            "tags": []
          }
        }
      ]
    },
    {
      "cell_type": "markdown",
      "metadata": {
        "id": "7FVwQziQyGmQ",
        "colab_type": "text"
      },
      "source": [
        "What happens with only 1 epoch ?"
      ]
    },
    {
      "cell_type": "code",
      "metadata": {
        "id": "WilIR0yV42wh",
        "colab_type": "code",
        "colab": {
          "base_uri": "https://localhost:8080/",
          "height": 34
        },
        "outputId": "a681fe1a-74d9-47d4-9782-0963a5f41fae"
      },
      "source": [
        "model = buildmodel([30,30],X_train,Y_train,ep = 1, batch =5)"
      ],
      "execution_count": 68,
      "outputs": [
        {
          "output_type": "stream",
          "text": [
            "50000/50000 [==============================] - 13s 260us/sample - loss: 0.5859 - acc: 0.7128\n"
          ],
          "name": "stdout"
        }
      ]
    },
    {
      "cell_type": "code",
      "metadata": {
        "id": "WmyipLYtyj25",
        "colab_type": "code",
        "colab": {
          "base_uri": "https://localhost:8080/",
          "height": 269
        },
        "outputId": "6b96ad99-a759-495c-f2f6-73f74b4c3947"
      },
      "source": [
        "plotgrid_network(300,30000,model)"
      ],
      "execution_count": 69,
      "outputs": [
        {
          "output_type": "display_data",
          "data": {
            "image/png": "[encoded data removed]",
            "text/plain": [
              "<Figure size 432x288 with 1 Axes>"
            ]
          },
          "metadata": {
            "tags": []
          }
        }
      ]
    },
    {
      "cell_type": "code",
      "metadata": {
        "id": "OZCssGo_TuUt",
        "colab_type": "code",
        "colab": {}
      },
      "source": [
        ""
      ],
      "execution_count": 0,
      "outputs": []
    }
  ]
}